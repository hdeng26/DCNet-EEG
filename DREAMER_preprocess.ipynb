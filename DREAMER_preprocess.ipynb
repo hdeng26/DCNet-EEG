{
 "cells": [
  {
   "cell_type": "markdown",
   "metadata": {
    "id": "pkwthBllY2iO"
   },
   "source": [
    "# DREAMER dataset"
   ]
  },
  {
   "cell_type": "code",
   "execution_count": null,
   "metadata": {
    "id": "tgrivWRbY45B"
   },
   "outputs": [],
   "source": [
    "import numpy as np\n",
    "import scipy\n",
    "import pickle\n",
    "import scipy.io\n",
    "from sklearn import preprocessing\n",
    "from argparse import ArgumentParser\n",
    "from scipy import signal\n",
    "import scipy.io as sio\n",
    "#!pip install neurokit2\n",
    "import neurokit2 as nk\n",
    "import pandas as pd\n",
    "import math\n",
    "from sklearn.decomposition import PCA"
   ]
  },
  {
   "cell_type": "code",
   "execution_count": null,
   "metadata": {
    "id": "ec416a0a-15a7-4550-8769-656ea4cc10b7",
    "outputId": "2ddb1ef7-55e6-46b4-9574-4223faad8e77"
   },
   "outputs": [
    {
     "name": "stdout",
     "output_type": "stream",
     "text": [
      "(10975232, 14) (10975232,)\n",
      "(9877708, 14) (1097524, 14) (9877708,) (1097524,)\n"
     ]
    }
   ],
   "source": [
    "video_len = [25472,\n",
    "16768,\n",
    "44544,\n",
    "21248,\n",
    "17408,\n",
    "24320,\n",
    "24576,\n",
    "50432,\n",
    "18560,\n",
    "8576,\n",
    "12288,\n",
    "23168,\n",
    "47104,\n",
    "21760,\n",
    "39424,\n",
    "24960,\n",
    "32768,\n",
    "23808]\n",
    "\n",
    "# EEG Feature Extraction : feature_extraction_EEG\n",
    "def preprocessing_and_feature_extraction_EEG(raw):#(file_name_csv,raw):\n",
    "    EEG_feature = []\n",
    "    for participant in range(0,23):\n",
    "        for video in range(0,18):\n",
    "            baselineLength = 61\n",
    "            basl = np.zeros((128,14))\n",
    "            baseline = raw['DREAMER'][0,0]['Data'][0,participant]['EEG'][0,0]['baseline'][0,0][video,0][:,:]\n",
    "            for base_slot in range(0, int(baseline.shape[0]/128)): #calculate baseline\n",
    "                basl+=baseline[base_slot*128:(base_slot+1)*128,:]\n",
    "            basl /= 61\n",
    "            stimuli = raw['DREAMER'][0,0]['Data'][0,participant]['EEG'][0,0]['stimuli'][0,0][video,0][:,:]\n",
    "            for stim_slot in range(0,int(stimuli.shape[0]/128)):\n",
    "                if stim_slot == 0:\n",
    "                    stim = np.array(stimuli[stim_slot*128:(stim_slot+1)*128,:]-basl)\n",
    "                else:\n",
    "                    next_slot = stimuli[stim_slot*128:(stim_slot+1)*128,:]-basl\n",
    "                    next_slot = np.array(next_slot)\n",
    "                    stim = np.concatenate((stim, next_slot), axis=0)\n",
    "            if video == 0:\n",
    "                num_video = stim\n",
    "            else:\n",
    "\n",
    "                num_video = np.concatenate((num_video, stim), axis=0)\n",
    "\n",
    "        EEG_feature.append(num_video)\n",
    "    return EEG_feature\n",
    "\n",
    "def Participants_Data(raw):\n",
    "    # Create new dataframe with emotion, participant, and video data\n",
    "    a=np.zeros((23,18,9),dtype=object)\n",
    "    for participant in range(0,23):\n",
    "        for video in range(0,18):\n",
    "            a[participant,video,0]=raw['DREAMER'][0,0]['Data'][0,participant]['Age'][0][0][0]\n",
    "            a[participant,video,1]=raw['DREAMER'][0,0]['Data'][0,participant]['Gender'][0][0][0]\n",
    "            a[participant,video,2]=participant+1\n",
    "            a[participant,video,3]=video+1\n",
    "            a[participant,video,4]=['Searching for Bobby Fischer','D.O.A.', 'The Hangover', 'The Ring', '300',\n",
    "                      'National Lampoon\\'s VanWilder', 'Wall-E', 'Crash', 'My Girl', 'The Fly',\n",
    "                      'Pride and Prejudice', 'Modern Times', 'Remember the Titans', 'Gentlemans Agreement',\n",
    "                      'Psycho', 'The Bourne Identitiy', 'The Shawshank Redemption', 'The Departed'][video]\n",
    "            a[participant,video,5]=['calmness', 'surprise', 'amusement', 'fear', 'excitement', 'disgust',\n",
    "                      'happiness', 'anger', 'sadness', 'disgust', 'calmness', 'amusement',\n",
    "                      'happiness', 'anger', 'fear', 'excitement', 'sadness', 'surprise'][video]\n",
    "            a[participant,video,6]=raw['DREAMER'][0,0]['Data'][0,participant]['ScoreValence'][0,0][video,0].astype(float)\n",
    "            a[participant,video,7]=raw['DREAMER'][0,0]['Data'][0,participant]['ScoreArousal'][0,0][video,0].astype(float)\n",
    "            a[participant,video,8]=raw['DREAMER'][0,0]['Data'][0,participant]['ScoreDominance'][0,0][video,0].astype(float)\n",
    "    b=pd.DataFrame(a.reshape((23*18,a.shape[2])),columns=['Age','Gender','Participant','Video','Video_Name','Target_Emotion','Valence','Arousal','Dominance'])\n",
    "    ## combine feature extraction dataframes with the new dataframe\n",
    "    #all_data=pd.concat([data_EEG,data_ECG,b],axis=1)\n",
    "    return b\n",
    "\n",
    "from sklearn.model_selection import train_test_split\n",
    "from sklearn import preprocessing\n",
    "from sklearn.model_selection import train_test_split\n",
    "path = \"./DREAMER.mat\"\n",
    "\n",
    "raw = sio.loadmat(path)\n",
    "x = preprocessing_and_feature_extraction_EEG(raw)\n",
    "x = np.array(x)\n",
    "x = x.reshape((23*477184,x.shape[2]))\n",
    "#y could be applied to all three categories labels\n",
    "y = Participants_Data(raw)['Valence'] \n",
    "for i in range(len(y)):\n",
    "  if y[i] < 4:\n",
    "    y[i] = 0\n",
    "  else:\n",
    "    y[i] = 1\n",
    "\n",
    "new_y = np.zeros(x.shape[0])\n",
    "old_index = 0\n",
    "new_index = 0\n",
    "for people in range(23):\n",
    "  for cur_len in video_len:\n",
    "    for cur_sample in range(cur_len):\n",
    "      new_y[new_index] = y[old_index]\n",
    "      new_index += 1\n",
    "    old_index += 1\n",
    "print(x.shape, new_y.shape)\n",
    "X = np.array(x)\n",
    "new_y = np.array(new_y)\n",
    "\n",
    "X_train, X_test, y_train, y_test = train_test_split(x, new_y, test_size=0.1, random_state=42)\n",
    "\n",
    "print(X_train.shape, X_test.shape, y_train.shape, y_test.shape)"
   ]
  }
 ],
 "metadata": {
  "accelerator": "GPU",
  "colab": {
   "collapsed_sections": [
    "qFN4EKJCVgjv",
    "pkwthBllY2iO"
   ],
   "gpuType": "T4",
   "provenance": []
  },
  "kernelspec": {
   "display_name": "Python 3 (ipykernel)",
   "language": "python",
   "name": "python3"
  },
  "language_info": {
   "codemirror_mode": {
    "name": "ipython",
    "version": 3
   },
   "file_extension": ".py",
   "mimetype": "text/x-python",
   "name": "python",
   "nbconvert_exporter": "python",
   "pygments_lexer": "ipython3",
   "version": "3.8.12"
  }
 },
 "nbformat": 4,
 "nbformat_minor": 1
}
